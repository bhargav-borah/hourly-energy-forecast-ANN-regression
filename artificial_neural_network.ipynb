{
  "nbformat": 4,
  "nbformat_minor": 0,
  "metadata": {
    "colab": {
      "provenance": [],
      "authorship_tag": "ABX9TyNBcTp1s7pPDc2fKe1j5C1C",
      "include_colab_link": true
    },
    "kernelspec": {
      "name": "python3",
      "display_name": "Python 3"
    },
    "language_info": {
      "name": "python"
    }
  },
  "cells": [
    {
      "cell_type": "markdown",
      "metadata": {
        "id": "view-in-github",
        "colab_type": "text"
      },
      "source": [
        "<a href=\"https://colab.research.google.com/github/bhargav-borah/hourly-energy-forecast-ANN-regression/blob/main/artificial_neural_network.ipynb\" target=\"_parent\"><img src=\"https://colab.research.google.com/assets/colab-badge.svg\" alt=\"Open In Colab\"/></a>"
      ]
    },
    {
      "cell_type": "markdown",
      "source": [
        "## Importing the libraries"
      ],
      "metadata": {
        "id": "xrkSk7ovqbdC"
      }
    },
    {
      "cell_type": "code",
      "source": [
        "import numpy as np\n",
        "import pandas as pd\n",
        "import tensorflow as tf"
      ],
      "metadata": {
        "id": "aKRGrXA-qdWk"
      },
      "execution_count": null,
      "outputs": []
    },
    {
      "cell_type": "markdown",
      "source": [
        "## Importing the data set"
      ],
      "metadata": {
        "id": "hvdOj0ygqrPd"
      }
    },
    {
      "cell_type": "code",
      "source": [
        "dataset = pd.read_excel('/content/Folds5x2_pp.xlsx')\n",
        "X = dataset.iloc[:, :-1].values\n",
        "y = dataset.iloc[:, -1].values"
      ],
      "metadata": {
        "id": "LshQOEq1qmbM"
      },
      "execution_count": null,
      "outputs": []
    },
    {
      "cell_type": "markdown",
      "source": [
        "## Splitting the data set into Training set and Test set"
      ],
      "metadata": {
        "id": "ItLxGzo6rSI0"
      }
    },
    {
      "cell_type": "code",
      "source": [
        "from sklearn.model_selection import train_test_split\n",
        "X_train, X_test, y_train, y_test = train_test_split(X, y, test_size = 0.25, random_state = 0)"
      ],
      "metadata": {
        "id": "W7kWqz1srA_y"
      },
      "execution_count": null,
      "outputs": []
    },
    {
      "cell_type": "markdown",
      "source": [
        "## Building the ANN"
      ],
      "metadata": {
        "id": "ulWMuS_RrlgL"
      }
    },
    {
      "cell_type": "code",
      "source": [
        "ann = tf.keras.models.Sequential()\n",
        "ann.add(tf.keras.layers.Dense(units = 6, activation = 'relu'))\n",
        "ann.add(tf.keras.layers.Dense(units = 6, activation = 'relu'))\n",
        "ann.add(tf.keras.layers.Dense(units = 1))"
      ],
      "metadata": {
        "id": "K-iWA1xYrhHd"
      },
      "execution_count": null,
      "outputs": []
    },
    {
      "cell_type": "markdown",
      "source": [
        "## Training the ANN"
      ],
      "metadata": {
        "id": "0-gB2rGks5Ub"
      }
    },
    {
      "cell_type": "markdown",
      "source": [
        "### Compiling the ANN"
      ],
      "metadata": {
        "id": "4BVq9gUds-Re"
      }
    },
    {
      "cell_type": "code",
      "source": [
        "ann.compile(optimizer = 'adam', loss = 'mean_squared_error')"
      ],
      "metadata": {
        "id": "jjbsJvfss6uy"
      },
      "execution_count": null,
      "outputs": []
    },
    {
      "cell_type": "markdown",
      "source": [
        "### Training the ANN model on the Training set"
      ],
      "metadata": {
        "id": "RJngDHSZtKrh"
      }
    },
    {
      "cell_type": "code",
      "source": [
        "ann.fit(X_train, y_train, batch_size = 32, epochs = 100)"
      ],
      "metadata": {
        "colab": {
          "base_uri": "https://localhost:8080/"
        },
        "id": "b4uRFTkmtF5h",
        "outputId": "14184189-d450-48aa-e682-e141b63d2d7d"
      },
      "execution_count": null,
      "outputs": [
        {
          "output_type": "stream",
          "name": "stdout",
          "text": [
            "Epoch 1/100\n",
            "225/225 [==============================] - 2s 2ms/step - loss: 145892.2188\n",
            "Epoch 2/100\n",
            "225/225 [==============================] - 0s 2ms/step - loss: 328.2503\n",
            "Epoch 3/100\n",
            "225/225 [==============================] - 0s 2ms/step - loss: 321.6359\n",
            "Epoch 4/100\n",
            "225/225 [==============================] - 0s 2ms/step - loss: 312.9776\n",
            "Epoch 5/100\n",
            "225/225 [==============================] - 0s 2ms/step - loss: 303.0325\n",
            "Epoch 6/100\n",
            "225/225 [==============================] - 0s 2ms/step - loss: 291.1518\n",
            "Epoch 7/100\n",
            "225/225 [==============================] - 0s 2ms/step - loss: 279.1969\n",
            "Epoch 8/100\n",
            "225/225 [==============================] - 0s 2ms/step - loss: 265.5114\n",
            "Epoch 9/100\n",
            "225/225 [==============================] - 0s 2ms/step - loss: 252.6113\n",
            "Epoch 10/100\n",
            "225/225 [==============================] - 0s 2ms/step - loss: 237.7370\n",
            "Epoch 11/100\n",
            "225/225 [==============================] - 0s 2ms/step - loss: 222.0058\n",
            "Epoch 12/100\n",
            "225/225 [==============================] - 0s 2ms/step - loss: 207.0312\n",
            "Epoch 13/100\n",
            "225/225 [==============================] - 0s 2ms/step - loss: 192.1842\n",
            "Epoch 14/100\n",
            "225/225 [==============================] - 1s 3ms/step - loss: 177.3474\n",
            "Epoch 15/100\n",
            "225/225 [==============================] - 1s 3ms/step - loss: 163.9921\n",
            "Epoch 16/100\n",
            "225/225 [==============================] - 1s 3ms/step - loss: 149.0647\n",
            "Epoch 17/100\n",
            "225/225 [==============================] - 1s 3ms/step - loss: 135.7735\n",
            "Epoch 18/100\n",
            "225/225 [==============================] - 0s 2ms/step - loss: 122.2221\n",
            "Epoch 19/100\n",
            "225/225 [==============================] - 0s 2ms/step - loss: 110.1529\n",
            "Epoch 20/100\n",
            "225/225 [==============================] - 0s 2ms/step - loss: 99.7082\n",
            "Epoch 21/100\n",
            "225/225 [==============================] - 0s 2ms/step - loss: 87.8671\n",
            "Epoch 22/100\n",
            "225/225 [==============================] - 0s 2ms/step - loss: 78.6338\n",
            "Epoch 23/100\n",
            "225/225 [==============================] - 0s 2ms/step - loss: 70.7263\n",
            "Epoch 24/100\n",
            "225/225 [==============================] - 0s 2ms/step - loss: 63.0111\n",
            "Epoch 25/100\n",
            "225/225 [==============================] - 0s 2ms/step - loss: 57.3529\n",
            "Epoch 26/100\n",
            "225/225 [==============================] - 0s 2ms/step - loss: 51.8310\n",
            "Epoch 27/100\n",
            "225/225 [==============================] - 0s 2ms/step - loss: 47.7850\n",
            "Epoch 28/100\n",
            "225/225 [==============================] - 0s 2ms/step - loss: 44.1317\n",
            "Epoch 29/100\n",
            "225/225 [==============================] - 0s 2ms/step - loss: 41.4072\n",
            "Epoch 30/100\n",
            "225/225 [==============================] - 0s 2ms/step - loss: 39.8378\n",
            "Epoch 31/100\n",
            "225/225 [==============================] - 0s 2ms/step - loss: 38.9337\n",
            "Epoch 32/100\n",
            "225/225 [==============================] - 0s 2ms/step - loss: 36.3493\n",
            "Epoch 33/100\n",
            "225/225 [==============================] - 0s 2ms/step - loss: 35.6562\n",
            "Epoch 34/100\n",
            "225/225 [==============================] - 0s 2ms/step - loss: 33.6411\n",
            "Epoch 35/100\n",
            "225/225 [==============================] - 0s 2ms/step - loss: 33.9861\n",
            "Epoch 36/100\n",
            "225/225 [==============================] - 0s 2ms/step - loss: 33.4040\n",
            "Epoch 37/100\n",
            "225/225 [==============================] - 0s 2ms/step - loss: 32.4474\n",
            "Epoch 38/100\n",
            "225/225 [==============================] - 0s 2ms/step - loss: 31.5654\n",
            "Epoch 39/100\n",
            "225/225 [==============================] - 0s 2ms/step - loss: 31.5968\n",
            "Epoch 40/100\n",
            "225/225 [==============================] - 0s 2ms/step - loss: 30.4486\n",
            "Epoch 41/100\n",
            "225/225 [==============================] - 1s 2ms/step - loss: 31.0924\n",
            "Epoch 42/100\n",
            "225/225 [==============================] - 1s 3ms/step - loss: 32.8514\n",
            "Epoch 43/100\n",
            "225/225 [==============================] - 1s 3ms/step - loss: 30.5017\n",
            "Epoch 44/100\n",
            "225/225 [==============================] - 1s 3ms/step - loss: 29.6127\n",
            "Epoch 45/100\n",
            "225/225 [==============================] - 1s 3ms/step - loss: 31.1243\n",
            "Epoch 46/100\n",
            "225/225 [==============================] - 0s 2ms/step - loss: 29.6505\n",
            "Epoch 47/100\n",
            "225/225 [==============================] - 0s 2ms/step - loss: 29.4236\n",
            "Epoch 48/100\n",
            "225/225 [==============================] - 0s 2ms/step - loss: 28.1789\n",
            "Epoch 49/100\n",
            "225/225 [==============================] - 0s 2ms/step - loss: 30.5964\n",
            "Epoch 50/100\n",
            "225/225 [==============================] - 0s 2ms/step - loss: 29.2539\n",
            "Epoch 51/100\n",
            "225/225 [==============================] - 0s 2ms/step - loss: 30.3356\n",
            "Epoch 52/100\n",
            "225/225 [==============================] - 0s 2ms/step - loss: 30.4665\n",
            "Epoch 53/100\n",
            "225/225 [==============================] - 0s 2ms/step - loss: 30.9398\n",
            "Epoch 54/100\n",
            "225/225 [==============================] - 0s 2ms/step - loss: 29.3889\n",
            "Epoch 55/100\n",
            "225/225 [==============================] - 0s 2ms/step - loss: 29.4146\n",
            "Epoch 56/100\n",
            "225/225 [==============================] - 0s 2ms/step - loss: 29.2261\n",
            "Epoch 57/100\n",
            "225/225 [==============================] - 0s 2ms/step - loss: 29.1110\n",
            "Epoch 58/100\n",
            "225/225 [==============================] - 0s 2ms/step - loss: 28.7905\n",
            "Epoch 59/100\n",
            "225/225 [==============================] - 0s 2ms/step - loss: 28.4173\n",
            "Epoch 60/100\n",
            "225/225 [==============================] - 0s 2ms/step - loss: 28.9823\n",
            "Epoch 61/100\n",
            "225/225 [==============================] - 0s 2ms/step - loss: 29.1230\n",
            "Epoch 62/100\n",
            "225/225 [==============================] - 0s 2ms/step - loss: 29.6186\n",
            "Epoch 63/100\n",
            "225/225 [==============================] - 0s 2ms/step - loss: 29.2904\n",
            "Epoch 64/100\n",
            "225/225 [==============================] - 0s 2ms/step - loss: 28.6890\n",
            "Epoch 65/100\n",
            "225/225 [==============================] - 0s 2ms/step - loss: 32.7288\n",
            "Epoch 66/100\n",
            "225/225 [==============================] - 0s 2ms/step - loss: 31.4123\n",
            "Epoch 67/100\n",
            "225/225 [==============================] - 0s 2ms/step - loss: 28.7069\n",
            "Epoch 68/100\n",
            "225/225 [==============================] - 0s 2ms/step - loss: 29.5468\n",
            "Epoch 69/100\n",
            "225/225 [==============================] - 1s 2ms/step - loss: 30.2378\n",
            "Epoch 70/100\n",
            "225/225 [==============================] - 1s 3ms/step - loss: 30.0168\n",
            "Epoch 71/100\n",
            "225/225 [==============================] - 1s 3ms/step - loss: 28.7556\n",
            "Epoch 72/100\n",
            "225/225 [==============================] - 1s 3ms/step - loss: 31.8717\n",
            "Epoch 73/100\n",
            "225/225 [==============================] - 1s 3ms/step - loss: 29.1310\n",
            "Epoch 74/100\n",
            "225/225 [==============================] - 0s 2ms/step - loss: 30.3175\n",
            "Epoch 75/100\n",
            "225/225 [==============================] - 0s 2ms/step - loss: 29.2721\n",
            "Epoch 76/100\n",
            "225/225 [==============================] - 0s 2ms/step - loss: 29.6841\n",
            "Epoch 77/100\n",
            "225/225 [==============================] - 0s 2ms/step - loss: 29.6004\n",
            "Epoch 78/100\n",
            "225/225 [==============================] - 0s 2ms/step - loss: 32.0512\n",
            "Epoch 79/100\n",
            "225/225 [==============================] - 0s 2ms/step - loss: 30.1540\n",
            "Epoch 80/100\n",
            "225/225 [==============================] - 0s 2ms/step - loss: 27.8875\n",
            "Epoch 81/100\n",
            "225/225 [==============================] - 0s 2ms/step - loss: 30.2090\n",
            "Epoch 82/100\n",
            "225/225 [==============================] - 0s 2ms/step - loss: 28.4937\n",
            "Epoch 83/100\n",
            "225/225 [==============================] - 0s 2ms/step - loss: 30.4762\n",
            "Epoch 84/100\n",
            "225/225 [==============================] - 0s 2ms/step - loss: 28.9578\n",
            "Epoch 85/100\n",
            "225/225 [==============================] - 0s 2ms/step - loss: 29.6479\n",
            "Epoch 86/100\n",
            "225/225 [==============================] - 0s 2ms/step - loss: 28.7915\n",
            "Epoch 87/100\n",
            "225/225 [==============================] - 0s 2ms/step - loss: 29.7287\n",
            "Epoch 88/100\n",
            "225/225 [==============================] - 0s 2ms/step - loss: 29.6821\n",
            "Epoch 89/100\n",
            "225/225 [==============================] - 0s 2ms/step - loss: 29.4916\n",
            "Epoch 90/100\n",
            "225/225 [==============================] - 0s 2ms/step - loss: 29.0028\n",
            "Epoch 91/100\n",
            "225/225 [==============================] - 0s 2ms/step - loss: 29.9101\n",
            "Epoch 92/100\n",
            "225/225 [==============================] - 1s 3ms/step - loss: 29.5717\n",
            "Epoch 93/100\n",
            "225/225 [==============================] - 1s 2ms/step - loss: 29.2596\n",
            "Epoch 94/100\n",
            "225/225 [==============================] - 1s 3ms/step - loss: 28.4859\n",
            "Epoch 95/100\n",
            "225/225 [==============================] - 1s 3ms/step - loss: 28.8360\n",
            "Epoch 96/100\n",
            "225/225 [==============================] - 1s 4ms/step - loss: 31.2609\n",
            "Epoch 97/100\n",
            "225/225 [==============================] - 1s 5ms/step - loss: 28.1753\n",
            "Epoch 98/100\n",
            "225/225 [==============================] - 1s 4ms/step - loss: 29.8774\n",
            "Epoch 99/100\n",
            "225/225 [==============================] - 2s 8ms/step - loss: 29.7005\n",
            "Epoch 100/100\n",
            "225/225 [==============================] - 1s 4ms/step - loss: 33.2998\n"
          ]
        },
        {
          "output_type": "execute_result",
          "data": {
            "text/plain": [
              "<keras.callbacks.History at 0x7f403267ece0>"
            ]
          },
          "metadata": {},
          "execution_count": 13
        }
      ]
    },
    {
      "cell_type": "markdown",
      "source": [
        "## Predicting the results on the Test set"
      ],
      "metadata": {
        "id": "jBUWzagktiIL"
      }
    },
    {
      "cell_type": "code",
      "source": [
        "y_pred = ann.predict(X_test)\n",
        "print(np.concatenate((y_pred.reshape(-1, 1), y_test.reshape(-1, 1)), axis = 1))"
      ],
      "metadata": {
        "colab": {
          "base_uri": "https://localhost:8080/"
        },
        "id": "A2l7N-v8tXf-",
        "outputId": "c19e9637-c348-4973-b04e-0b2079e0c1a5"
      },
      "execution_count": null,
      "outputs": [
        {
          "output_type": "stream",
          "name": "stdout",
          "text": [
            "75/75 [==============================] - 0s 1ms/step\n",
            "[[434.09393311 431.23      ]\n",
            " [465.05444336 460.01      ]\n",
            " [468.59121704 461.14      ]\n",
            " ...\n",
            " [474.70062256 468.9       ]\n",
            " [479.13616943 473.9       ]\n",
            " [443.55908203 437.07      ]]\n"
          ]
        }
      ]
    },
    {
      "cell_type": "code",
      "source": [],
      "metadata": {
        "id": "4FtXukROtzr2"
      },
      "execution_count": null,
      "outputs": []
    }
  ]
}